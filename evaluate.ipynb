{
 "cells": [
  {
   "cell_type": "code",
   "execution_count": 1,
   "id": "1a9f17c3",
   "metadata": {},
   "outputs": [
    {
     "name": "stderr",
     "output_type": "stream",
     "text": [
      "/home/jonathan/powell-phi3-sft/venv/lib/python3.13/site-packages/tqdm/auto.py:21: TqdmWarning: IProgress not found. Please update jupyter and ipywidgets. See https://ipywidgets.readthedocs.io/en/stable/user_install.html\n",
      "  from .autonotebook import tqdm as notebook_tqdm\n"
     ]
    }
   ],
   "source": [
    "from transformers import AutoModelForCausalLM, AutoTokenizer, BitsAndBytesConfig, pipeline\n",
    "from peft import PeftModel"
   ]
  },
  {
   "cell_type": "code",
   "execution_count": 2,
   "id": "4350e45e",
   "metadata": {},
   "outputs": [],
   "source": [
    "BASE_MODEL_NAME = \"microsoft/Phi-3-mini-4k-instruct\"\n",
    "ADAPTER_PATH = \"./powell-phi3-lora/checkpoint-93\"\n",
    "\n",
    "BITS_AND_BYTES_CONFIG = {\n",
    "    \"load_in_4bit\": True,\n",
    "    \"bnb_4bit_quant_type\": \"nf4\",\n",
    "    \"bnb_4bit_use_double_quant\": True,\n",
    "    \"bnb_4bit_compute_dtype\": \"float16\",\n",
    "}\n",
    "bnb_config = BitsAndBytesConfig(**BITS_AND_BYTES_CONFIG)"
   ]
  },
  {
   "cell_type": "code",
   "execution_count": 3,
   "id": "00785592",
   "metadata": {},
   "outputs": [
    {
     "name": "stderr",
     "output_type": "stream",
     "text": [
      "`flash-attention` package not found, consider installing for better performance: No module named 'flash_attn'.\n",
      "Current `flash-attention` does not support `window_size`. Either upgrade or use `attn_implementation='eager'`.\n",
      "Loading checkpoint shards: 100%|██████████| 2/2 [00:12<00:00,  6.36s/it]\n"
     ]
    }
   ],
   "source": [
    "tokenizer = AutoTokenizer.from_pretrained(BASE_MODEL_NAME)\n",
    "base_model = AutoModelForCausalLM.from_pretrained(\n",
    "    BASE_MODEL_NAME,\n",
    "    quantization_config=bnb_config,\n",
    "    device_map=\"auto\",\n",
    "    trust_remote_code=True,\n",
    ")"
   ]
  },
  {
   "cell_type": "code",
   "execution_count": 4,
   "id": "1f65562a",
   "metadata": {},
   "outputs": [],
   "source": [
    "def print_output(model, message):\n",
    "    message = [\n",
    "        {\"role\": \"system\", \"content\": \"You are Jerome Powell, the Chairman of the Federal Reserve.\"},\n",
    "        {\"role\": \"user\", \"content\": message}\n",
    "    ]\n",
    "\n",
    "    pipe = pipeline(\n",
    "        \"text-generation\",\n",
    "        model=model,\n",
    "        tokenizer=tokenizer,\n",
    "    )\n",
    "    generation_args = { \n",
    "        \"max_new_tokens\": 50, \n",
    "        \"return_full_text\": False, \n",
    "        \"temperature\": 0.0, \n",
    "        \"do_sample\": False,\n",
    "        \"use_cache\": False \n",
    "    } \n",
    "\n",
    "    output = pipe(message, **generation_args) \n",
    "    print(f\"Prompt: {message}\")\n",
    "    print(f\"Base Model response: {output[0]['generated_text']}\")"
   ]
  },
  {
   "cell_type": "code",
   "execution_count": 5,
   "id": "3e7c8609",
   "metadata": {},
   "outputs": [
    {
     "name": "stderr",
     "output_type": "stream",
     "text": [
      "Device set to use cuda:0\n",
      "The following generation flags are not valid and may be ignored: ['temperature']. Set `TRANSFORMERS_VERBOSITY=info` for more details.\n",
      "You are not running the flash-attention implementation, expect numerical differences.\n"
     ]
    },
    {
     "name": "stdout",
     "output_type": "stream",
     "text": [
      "Prompt: [{'role': 'system', 'content': 'You are Jerome Powell, the Chairman of the Federal Reserve.'}, {'role': 'user', 'content': 'Are you gonna raise interest rates?'}]\n",
      "Base Model response:  As Jerome Powell, the Chairman of the Federal Reserve, I would respond with a statement that reflects the current economic situation and the Federal Reserve's policy objectives. Here'ieves the response:\n",
      "\n",
      "\n",
      "\"The Federal Reserve\n"
     ]
    }
   ],
   "source": [
    "print_output(base_model, \"Are you gonna raise interest rates?\")"
   ]
  },
  {
   "cell_type": "code",
   "execution_count": 6,
   "id": "15e64584",
   "metadata": {},
   "outputs": [],
   "source": [
    "powell_model = PeftModel.from_pretrained(base_model, ADAPTER_PATH)"
   ]
  },
  {
   "cell_type": "code",
   "execution_count": 7,
   "id": "370ee4fa",
   "metadata": {},
   "outputs": [
    {
     "name": "stderr",
     "output_type": "stream",
     "text": [
      "Device set to use cuda:0\n"
     ]
    },
    {
     "name": "stdout",
     "output_type": "stream",
     "text": [
      "Prompt: [{'role': 'system', 'content': 'You are Jerome Powell, the Chairman of the Federal Reserve.'}, {'role': 'user', 'content': 'Are you gonna raise interest rates?'}]\n",
      "Base Model response:  As Jerome Powell, the Chairman of the Federal Reserve, I would respond:\n",
      "\n",
      "\n",
      "\"Our primary mandate is to promote maximum employment, stable prices, and moderate long-term interest rates. Decisions on interest\n"
     ]
    }
   ],
   "source": [
    "print_output(powell_model, \"Are you gonna raise interest rates?\")"
   ]
  }
 ],
 "metadata": {
  "kernelspec": {
   "display_name": "venv",
   "language": "python",
   "name": "python3"
  },
  "language_info": {
   "codemirror_mode": {
    "name": "ipython",
    "version": 3
   },
   "file_extension": ".py",
   "mimetype": "text/x-python",
   "name": "python",
   "nbconvert_exporter": "python",
   "pygments_lexer": "ipython3",
   "version": "3.13.5"
  }
 },
 "nbformat": 4,
 "nbformat_minor": 5
}
