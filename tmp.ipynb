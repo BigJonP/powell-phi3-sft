{
 "cells": [
  {
   "cell_type": "code",
   "execution_count": null,
   "id": "567a28a9",
   "metadata": {},
   "outputs": [],
   "source": [
    "from transformers import AutoModelForCausalLM, AutoTokenizer, BitsAndBytesConfig, TrainerCallback, TrainingArguments, TrainerState, TrainerControl\n",
    "from trl import SFTTrainer, SFTConfig\n",
    "from peft import LoraConfig\n",
    "from datasets import load_dataset"
   ]
  },
  {
   "cell_type": "code",
   "execution_count": null,
   "id": "b1c69763",
   "metadata": {},
   "outputs": [],
   "source": [
    "MODEL_ID = \"microsoft/Phi-3-mini-4k-instruct\"\n",
    "BITS_AND_BYTES_CONFIG = {\n",
    "    \"load_in_4bit\": True, \n",
    "    \"bnb_4bit_quant_type\": \"nf4\", \n",
    "    \"bnb_4bit_use_double_quant\": True, \n",
    "    \"bnb_4bit_compute_dtype\": \"float16\"\n",
    "} "
   ]
  },
  {
   "cell_type": "code",
   "execution_count": null,
   "id": "e8f310be",
   "metadata": {},
   "outputs": [],
   "source": [
    "model_id = \"microsoft/Phi-3-mini-4k-instruct\"\n",
    "\n",
    "bnb = BitsAndBytesConfig(**BITS_AND_BYTES_CONFIG)\n",
    "\n",
    "tok = AutoTokenizer.from_pretrained(model_id, use_fast=True)\n",
    "#tok.pad_token = tok.eos_token\n",
    "\n",
    "model = AutoModelForCausalLM.from_pretrained(model_id, quantization_config=bnb, device_map=\"auto\")"
   ]
  },
  {
   "cell_type": "code",
   "execution_count": null,
   "id": "6bc59ae2",
   "metadata": {},
   "outputs": [],
   "source": [
    "print(model)"
   ]
  },
  {
   "cell_type": "code",
   "execution_count": null,
   "id": "caef3b3d",
   "metadata": {},
   "outputs": [],
   "source": [
    "lora = LoraConfig(\n",
    "    r=6, \n",
    "    lora_alpha=12, \n",
    "    lora_dropout=0.1,\n",
    "    target_modules=[\"q_proj\",\"k_proj\",\"v_proj\",\"o_proj\"],\n",
    "    task_type=\"CAUSAL_LM\"\n",
    "    )\n",
    "\n",
    "#pissa for training stability + faster convergence\n",
    "#relatively high dropout to prevent overfitting dataset has 1000 samples\n",
    "#rank 12 to increase training stability -> due to small dataset"
   ]
  },
  {
   "cell_type": "code",
   "execution_count": null,
   "id": "62623932",
   "metadata": {},
   "outputs": [],
   "source": [
    "ds = load_dataset(\"BoostedJonP/JeromePowell-SFT\")"
   ]
  },
  {
   "cell_type": "code",
   "execution_count": null,
   "id": "2d5a3330",
   "metadata": {},
   "outputs": [],
   "source": [
    "cfg = SFTConfig(\n",
    "    output_dir=\"out/powell-phi3-lora\",\n",
    "    max_length=1024,\n",
    "    per_device_train_batch_size=1,\n",
    "    gradient_accumulation_steps=16,\n",
    "    num_train_epochs=3,\n",
    "    learning_rate=1.5e-4,\n",
    "    lr_scheduler_type=\"cosine\",\n",
    "    warmup_ratio=0.05,\n",
    "    bf16=False, fp16=True,\n",
    "    packing=True,\n",
    "    logging_steps=20,\n",
    "    save_steps=500,\n",
    "    save_total_limit=2,\n",
    ")"
   ]
  },
  {
   "cell_type": "code",
   "execution_count": null,
   "id": "300d7485",
   "metadata": {},
   "outputs": [],
   "source": [
    "trainer = SFTTrainer(\n",
    "    model=model,\n",
    "    peft_config=lora,\n",
    "    train_dataset=ds[\"train\"],\n",
    "    formatting_func=lambda ex: \n",
    "       tok.apply_chat_template(\n",
    "        [{\"role\":\"user\",\"content\":ex[\"instruction\"] + (\"\\n\\n\" + ex[\"input\"] if ex.get(\"input\") else \"\")},\n",
    "           {\"role\":\"assistant\",\"content\":ex[\"output\"]}],\n",
    "           tokenize=False, add_generation_prompt=False)\n",
    "    ,\n",
    "    args=cfg,\n",
    ")\n",
    "\n",
    "\n",
    "class PrintLossCallback(TrainerCallback):\n",
    "    def on_log(self, args: TrainingArguments, state: TrainerState, control: TrainerControl, logs=None, **kwargs):\n",
    "        if logs is not None and 'loss' in logs:\n",
    "            print(f\"Step {state.global_step}: Loss = {logs['loss']:.4f}\")\n",
    "\n",
    "trainer.add_callback(PrintLossCallback())"
   ]
  },
  {
   "cell_type": "code",
   "execution_count": null,
   "id": "fbd38f4b",
   "metadata": {},
   "outputs": [],
   "source": [
    "trainer.train()"
   ]
  }
 ],
 "metadata": {
  "kernelspec": {
   "display_name": "venv",
   "language": "python",
   "name": "python3"
  },
  "language_info": {
   "codemirror_mode": {
    "name": "ipython",
    "version": 3
   },
   "file_extension": ".py",
   "mimetype": "text/x-python",
   "name": "python",
   "nbconvert_exporter": "python",
   "pygments_lexer": "ipython3",
   "version": "3.13.5"
  }
 },
 "nbformat": 4,
 "nbformat_minor": 5
}
