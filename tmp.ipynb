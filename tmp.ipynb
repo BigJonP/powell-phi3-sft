{
 "cells": [
  {
   "cell_type": "code",
   "execution_count": 1,
   "id": "567a28a9",
   "metadata": {},
   "outputs": [
    {
     "name": "stderr",
     "output_type": "stream",
     "text": [
      "/home/jonathan/powell-phi3-sft/venv/lib/python3.13/site-packages/tqdm/auto.py:21: TqdmWarning: IProgress not found. Please update jupyter and ipywidgets. See https://ipywidgets.readthedocs.io/en/stable/user_install.html\n",
      "  from .autonotebook import tqdm as notebook_tqdm\n"
     ]
    }
   ],
   "source": [
    "from transformers import AutoModelForCausalLM, AutoTokenizer, BitsAndBytesConfig\n",
    "from trl import SFTTrainer, SFTConfig\n",
    "from peft import LoraConfig\n",
    "from datasets import load_dataset"
   ]
  },
  {
   "cell_type": "code",
   "execution_count": null,
   "id": "b1c69763",
   "metadata": {},
   "outputs": [],
   "source": [
    "MODEL_ID = \"microsoft/Phi-3-mini-4k-instruct\"\n",
    "BITS_AND_BYTES_CONFIG = {\n",
    "    \"load_in_4bit\": True, \n",
    "    \"bnb_4bit_quant_type\": \"nf4\", \n",
    "    \"bnb_4bit_use_double_quant\": True, \n",
    "    \"bnb_4bit_compute_dtype\": \"float16\"\n",
    "} \n"
   ]
  },
  {
   "cell_type": "code",
   "execution_count": 3,
   "id": "e8f310be",
   "metadata": {},
   "outputs": [
    {
     "name": "stderr",
     "output_type": "stream",
     "text": [
      "Fetching 2 files: 100%|██████████| 2/2 [02:24<00:00, 72.38s/it] \n",
      "Loading checkpoint shards: 100%|██████████| 2/2 [00:09<00:00,  4.93s/it]\n"
     ]
    }
   ],
   "source": [
    "model_id = \"microsoft/Phi-3-mini-4k-instruct\"\n",
    "\n",
    "bnb = BitsAndBytesConfig(**BITS_AND_BYTES_CONFIG)\n",
    "\n",
    "tok = AutoTokenizer.from_pretrained(model_id, use_fast=True)\n",
    "#tok.pad_token = tok.eos_token\n",
    "# SFT trainer handles padding token\n",
    "model = AutoModelForCausalLM.from_pretrained(model_id, quantization_config=bnb, device_map=\"auto\")"
   ]
  },
  {
   "cell_type": "code",
   "execution_count": null,
   "id": "caef3b3d",
   "metadata": {},
   "outputs": [],
   "source": [
    "lora = LoraConfig(\n",
    "    init_lora_weights=\"pissa\",\n",
    "    r=12, \n",
    "    lora_alpha=24, \n",
    "    lora_dropout=0.1,\n",
    "    target_modules=[\"q_proj\",\"k_proj\",\"v_proj\",\"o_proj\",\"up_proj\",\"down_proj\",\"gate_proj\"],\n",
    "    task_type=\"CAUSAL_LM\"\n",
    "    )\n",
    "\n",
    "#pissa for training stability + faster convergence\n",
    "#relatively high dropout to prevent overfitting dataset has 1000 samples\n",
    "#rank 12 to increase training stability -> due to small dataset"
   ]
  },
  {
   "cell_type": "code",
   "execution_count": 5,
   "id": "62623932",
   "metadata": {},
   "outputs": [
    {
     "name": "stderr",
     "output_type": "stream",
     "text": [
      "Generating train split: 100%|██████████| 1126/1126 [00:00<00:00, 4081.48 examples/s]\n"
     ]
    }
   ],
   "source": [
    "ds = load_dataset(\"BoostedJonP/JeromePowell-SFT\")"
   ]
  },
  {
   "cell_type": "code",
   "execution_count": null,
   "id": "2d5a3330",
   "metadata": {},
   "outputs": [],
   "source": []
  }
 ],
 "metadata": {
  "kernelspec": {
   "display_name": "venv",
   "language": "python",
   "name": "python3"
  },
  "language_info": {
   "codemirror_mode": {
    "name": "ipython",
    "version": 3
   },
   "file_extension": ".py",
   "mimetype": "text/x-python",
   "name": "python",
   "nbconvert_exporter": "python",
   "pygments_lexer": "ipython3",
   "version": "3.13.5"
  }
 },
 "nbformat": 4,
 "nbformat_minor": 5
}
